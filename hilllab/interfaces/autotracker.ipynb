{
 "cells": [
  {
   "cell_type": "markdown",
   "id": "f8216d6b-d2e2-43d5-be28-2ea7eea194b4",
   "metadata": {
    "deletable": true,
    "editable": true,
    "slideshow": {
     "slide_type": ""
    },
    "tags": []
   },
   "source": [
    "## Autotracker Interface\n",
    "**This is the Jupyter Notebook interface for the new autotracker.** More information can be found below. "
   ]
  },
  {
   "cell_type": "code",
   "execution_count": null,
   "id": "5116b0fd-63a9-4125-8f99-cf4cfa0c476a",
   "metadata": {
    "editable": true,
    "slideshow": {
     "slide_type": ""
    },
    "tags": []
   },
   "outputs": [],
   "source": [
    "# Import the new autotracking module\n",
    "from hilllab.autotracker import *"
   ]
  },
  {
   "cell_type": "code",
   "execution_count": null,
   "id": "7a99407f-1a23-4da4-bb05-87f96a713716",
   "metadata": {},
   "outputs": [],
   "source": [
    "# Run the cell below to select your video and save paths.\n",
    "video_path, save_path = autotrack_select_paths()"
   ]
  },
  {
   "cell_type": "code",
   "execution_count": null,
   "id": "f4a63b86-5644-4d19-8724-50d54339a6f2",
   "metadata": {
    "editable": true,
    "slideshow": {
     "slide_type": ""
    },
    "tags": []
   },
   "outputs": [],
   "source": [
    "# Run this cell to autotrack videos (additioanl arguments below)\n",
    "autotrack_videos(video_path=video_path, save_path=save_path, bead_size_pixels=21, trajectory_fraction=1.0,\n",
    "                 max_travel_pixels=5, memory=0, invert=False)"
   ]
  },
  {
   "cell_type": "code",
   "execution_count": null,
   "id": "0f957695-8394-4220-8cf8-35b0ccae32e9",
   "metadata": {
    "editable": true,
    "slideshow": {
     "slide_type": ""
    },
    "tags": []
   },
   "outputs": [],
   "source": [
    "# Run this cell to get help with the autotrack_videos function arguments\n",
    "?autotrack_videos"
   ]
  },
  {
   "cell_type": "markdown",
   "id": "1ceedf6a-e564-49d4-ab20-b47be386b388",
   "metadata": {},
   "source": [
    "### Test Parameters\n",
    "If you'd like to test autotracking parameters before running them on a large batch of videos, use the function below or open the dedicated Jupyter notebook. "
   ]
  },
  {
   "cell_type": "code",
   "execution_count": null,
   "id": "69207234-4e43-4e29-83bd-814f1a13b3f9",
   "metadata": {},
   "outputs": [],
   "source": [
    "autotrack_videos_parameter_test(video_path='path', \n",
    "                                n_frames=5, bead_size_pixels=21, max_travel_pixels=5, memory=0, invert=False)"
   ]
  },
  {
   "cell_type": "markdown",
   "id": "f6dfa64e-d47b-4d87-89c2-24d79f3ae840",
   "metadata": {
    "editable": false,
    "slideshow": {
     "slide_type": ""
    },
    "tags": []
   },
   "source": [
    "### About\n",
    "This new version of the autotracker performs the same calculations as the previous one but runs faster, is more reliable, and manages CPU usage more efficiently. It also includes minor updates and additions to the VRPN structure and format, adding extra metadata and making the layout more intuitive. If you have any questions or concerns, please reach out to Christopher."
   ]
  }
 ],
 "metadata": {
  "kernelspec": {
   "display_name": "Python 3 (ipykernel)",
   "language": "python",
   "name": "python3"
  },
  "language_info": {
   "codemirror_mode": {
    "name": "ipython",
    "version": 3
   },
   "file_extension": ".py",
   "mimetype": "text/x-python",
   "name": "python",
   "nbconvert_exporter": "python",
   "pygments_lexer": "ipython3",
   "version": "3.12.4"
  },
  "widgets": {
   "application/vnd.jupyter.widget-state+json": {
    "state": {},
    "version_major": 2,
    "version_minor": 0
   }
  }
 },
 "nbformat": 4,
 "nbformat_minor": 5
}
