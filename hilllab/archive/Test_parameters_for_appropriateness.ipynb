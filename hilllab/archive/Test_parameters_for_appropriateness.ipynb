{
 "cells": [
  {
   "cell_type": "markdown",
   "metadata": {
    "editable": true,
    "slideshow": {
     "slide_type": ""
    },
    "tags": []
   },
   "source": [
    "<b>Import the necessary packages and perform set up.</b>"
   ]
  },
  {
   "cell_type": "code",
   "execution_count": 1,
   "metadata": {},
   "outputs": [],
   "source": [
    "from __future__ import division, unicode_literals, print_function\n",
    "import scipy.io as sio\n",
    "import os\n",
    "\n",
    "import matplotlib as mpl\n",
    "import matplotlib.pyplot as plt\n",
    "\n",
    "# Optionally, tweak styles.\n",
    "mpl.rc('figure',  figsize=(10, 5))\n",
    "mpl.rc('image', cmap='gray')\n",
    "\n",
    "import numpy as np\n",
    "import pandas as pd\n",
    "from pandas import DataFrame, Series  # for convenience\n",
    "\n",
    "import pims\n",
    "from pims import Frame\n",
    "import trackpy as tp\n",
    "import time\n",
    "\n",
    "@pims.pipeline\n",
    "def gray(image):\n",
    "    return image[:, :, 1]"
   ]
  },
  {
   "cell_type": "markdown",
   "metadata": {
    "editable": true,
    "slideshow": {
     "slide_type": ""
    },
    "tags": []
   },
   "source": [
    "<b>Specify the file that you want to test your parameters on.</b>"
   ]
  },
  {
   "cell_type": "code",
   "execution_count": 3,
   "metadata": {
    "editable": true,
    "slideshow": {
     "slide_type": ""
    },
    "tags": []
   },
   "outputs": [
    {
     "data": {
      "text/plain": [
       "'D:\\\\Tracking Test\\\\testvideo\\\\2pct_0mgml_HA_C1_0001.avi'"
      ]
     },
     "execution_count": 3,
     "metadata": {},
     "output_type": "execute_result"
    }
   ],
   "source": [
    "fname = r'D:\\Tracking Test\\testvideo\\2pct_0mgml_HA_C1_0001.avi'\n",
    "fname"
   ]
  },
  {
   "cell_type": "markdown",
   "metadata": {},
   "source": [
    "<b>Convert the weird Matlab Grayscale AVI format to something trackpy is cool with</b>\n",
    "\n",
    "(skip fv line if not importing weird AVI)."
   ]
  },
  {
   "cell_type": "code",
   "execution_count": 6,
   "metadata": {},
   "outputs": [],
   "source": [
    "frames = gray(pims.PyAVReaderIndexed(fname))\n"
   ]
  },
  {
   "cell_type": "code",
   "execution_count": 7,
   "metadata": {},
   "outputs": [],
   "source": [
    "fv = [frames[fr] for fr in range(len(frames))]"
   ]
  },
  {
   "cell_type": "markdown",
   "metadata": {},
   "source": [
    "<b>Set the width of your beads' point spread function in pixels and get an image of the beads that were located.</b>"
   ]
  },
  {
   "cell_type": "code",
   "execution_count": 5,
   "metadata": {
    "scrolled": true
   },
   "outputs": [
    {
     "data": {
      "text/plain": [
       "<Axes: >"
      ]
     },
     "execution_count": 5,
     "metadata": {},
     "output_type": "execute_result"
    }
   ],
   "source": [
    "bead_sz = 27\n",
    "f = tp.locate(fv[0],bead_sz,minmass=750*(bead_sz/21)**3,invert=True)\n",
    "\n",
    "%matplotlib qt\n",
    "tp.annotate(f,frames[0])"
   ]
  },
  {
   "cell_type": "markdown",
   "metadata": {},
   "source": [
    "<b>Perform a full track of the beads if desired.</b>"
   ]
  },
  {
   "cell_type": "code",
   "execution_count": 70,
   "metadata": {},
   "outputs": [
    {
     "name": "stdout",
     "output_type": "stream",
     "text": [
      "Frame 299: 477 trajectories present.\n"
     ]
    }
   ],
   "source": [
    "t = tp.batch(fv, bead_sz, minmass=750*(bead_sz/21)**3,processes=14)\n",
    "\n",
    "t1 = tp.link(t,10,memory=5)\n",
    "t1 = tp.filter_stubs(t1, len(fv)/2)\n",
    "t2 = t1[((t1['mass'] < 35000) & (t1['size'] < 7.5*(bead_sz/21)) & (t1['size'] > 4.5*(bead_sz/21)) & (t1['ecc'] < 0.3))]\n",
    "t3 = tp.filter_stubs(t2,len(fv)/2)\n",
    "\n",
    "plt.figure()\n",
    "tp.plot_traj(t3);"
   ]
  },
  {
   "cell_type": "code",
   "execution_count": 6,
   "metadata": {},
   "outputs": [
    {
     "data": {
      "text/plain": [
       "<matplotlib.axes._subplots.AxesSubplot at 0xd182f3deb8>"
      ]
     },
     "execution_count": 6,
     "metadata": {},
     "output_type": "execute_result"
    }
   ],
   "source": [
    "tp.mass_size(f)"
   ]
  },
  {
   "cell_type": "code",
   "execution_count": 13,
   "metadata": {},
   "outputs": [
    {
     "data": {
      "text/plain": [
       "275.51020408163265"
      ]
     },
     "execution_count": 13,
     "metadata": {},
     "output_type": "execute_result"
    }
   ],
   "source": [
    "3500*(bead_sz/21)**3"
   ]
  },
  {
   "cell_type": "code",
   "execution_count": null,
   "metadata": {},
   "outputs": [],
   "source": []
  }
 ],
 "metadata": {
  "kernelspec": {
   "display_name": "Python 3 (ipykernel)",
   "language": "python",
   "name": "python3"
  },
  "language_info": {
   "codemirror_mode": {
    "name": "ipython",
    "version": 3
   },
   "file_extension": ".py",
   "mimetype": "text/x-python",
   "name": "python",
   "nbconvert_exporter": "python",
   "pygments_lexer": "ipython3",
   "version": "3.12.4"
  },
  "widgets": {
   "application/vnd.jupyter.widget-state+json": {
    "state": {},
    "version_major": 2,
    "version_minor": 0
   }
  }
 },
 "nbformat": 4,
 "nbformat_minor": 4
}
