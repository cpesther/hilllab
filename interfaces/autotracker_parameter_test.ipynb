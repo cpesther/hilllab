{
 "cells": [
  {
   "cell_type": "markdown",
   "id": "19290b65-8118-4cd6-9927-34eb81aa19d5",
   "metadata": {
    "editable": true,
    "slideshow": {
     "slide_type": ""
    },
    "tags": []
   },
   "source": [
    "## Autotracker Parameter Test\n",
    "**This notebook allows you to test various parameters for the autotracker to ensure that they will appropriately locate the desired features.**\n"
   ]
  },
  {
   "cell_type": "code",
   "execution_count": null,
   "id": "a8b758a6-0b14-4478-be23-a5160e3eea36",
   "metadata": {
    "editable": true,
    "slideshow": {
     "slide_type": ""
    },
    "tags": []
   },
   "outputs": [],
   "source": []
  }
 ],
 "metadata": {
  "kernelspec": {
   "display_name": "Python 3 (ipykernel)",
   "language": "python",
   "name": "python3"
  },
  "language_info": {
   "codemirror_mode": {
    "name": "ipython",
    "version": 3
   },
   "file_extension": ".py",
   "mimetype": "text/x-python",
   "name": "python",
   "nbconvert_exporter": "python",
   "pygments_lexer": "ipython3",
   "version": "3.12.4"
  },
  "widgets": {
   "application/vnd.jupyter.widget-state+json": {
    "state": {},
    "version_major": 2,
    "version_minor": 0
   }
  }
 },
 "nbformat": 4,
 "nbformat_minor": 5
}
