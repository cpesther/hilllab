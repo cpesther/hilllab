{
 "cells": [
  {
   "cell_type": "markdown",
   "id": "f8216d6b-d2e2-43d5-be28-2ea7eea194b4",
   "metadata": {
    "deletable": false,
    "editable": false,
    "slideshow": {
     "slide_type": ""
    },
    "tags": []
   },
   "source": [
    "## Autotracker Interface\n",
    "**This is the Jupyter Notebook interface for the new autotracker.** It performs all the same calculations as the old one, but is faster, more reliable, and manages CPU usage so that you can record new videos while still running in the background. If you have any questions or concerns, please ask Christopher.\n"
   ]
  },
  {
   "cell_type": "code",
   "execution_count": null,
   "id": "5116b0fd-63a9-4125-8f99-cf4cfa0c476a",
   "metadata": {
    "editable": true,
    "slideshow": {
     "slide_type": ""
    },
    "tags": []
   },
   "outputs": [],
   "source": [
    "# Import the new autotracking module\n",
    "from particlehill.autotracker import autotrack_videos"
   ]
  },
  {
   "cell_type": "markdown",
   "id": "55999f3e-dd3d-4d2f-b854-958ca8cf2e03",
   "metadata": {
    "deletable": false,
    "editable": false,
    "slideshow": {
     "slide_type": ""
    },
    "tags": []
   },
   "source": [
    "**Run the cell below to begin autotracking.** This function will open file dialog windows so you can select your source and save folders, ask you to confirm the parameters, and then autotrack all the videos."
   ]
  },
  {
   "cell_type": "code",
   "execution_count": null,
   "id": "f4a63b86-5644-4d19-8724-50d54339a6f2",
   "metadata": {
    "editable": false,
    "slideshow": {
     "slide_type": ""
    },
    "tags": []
   },
   "outputs": [],
   "source": [
    "autotrack_videos()"
   ]
  },
  {
   "cell_type": "markdown",
   "id": "7e6aa823-66a0-4127-b065-4c1f78aa781a",
   "metadata": {
    "deletable": false,
    "editable": false,
    "slideshow": {
     "slide_type": ""
    },
    "tags": []
   },
   "source": [
    "#### Argument Descriptions\n",
    "\n",
    "**trajectory_fraction (float):** The minimum fraction of the total frames in a video that a trajectory must appear in to be included in the final results. Default is 1.0, meaning all frames.\n",
    "\n",
    "**max_travel_pixels (int):** The maximum number of pixels a particle can travel between frames for TrackPy to consider it the same particle. Default is 5 pixels.\n",
    "\n",
    "**memory (int):** The maximum number of frames that a particle can be missing before it is considered to no longer exist. Default is 0 frames.\n",
    "\n",
    "**performance_mode (string):** Controls how many processes are allocated to TrackPy. The 'safe' mode uses the maximum without overloading the CPU and is recommended. The 'fast' mode uses as many as possible, which may cause CPU overload and hurt performance. The 'slow' mode uses very few processes, allowing other computationally expensive programs to run simultaneously."
   ]
  }
 ],
 "metadata": {
  "kernelspec": {
   "display_name": "Python 3 (ipykernel)",
   "language": "python",
   "name": "python3"
  },
  "language_info": {
   "codemirror_mode": {
    "name": "ipython",
    "version": 3
   },
   "file_extension": ".py",
   "mimetype": "text/x-python",
   "name": "python",
   "nbconvert_exporter": "python",
   "pygments_lexer": "ipython3",
   "version": "3.12.4"
  },
  "widgets": {
   "application/vnd.jupyter.widget-state+json": {
    "state": {},
    "version_major": 2,
    "version_minor": 0
   }
  }
 },
 "nbformat": 4,
 "nbformat_minor": 5
}
